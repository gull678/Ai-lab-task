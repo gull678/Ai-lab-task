{
  "nbformat": 4,
  "nbformat_minor": 0,
  "metadata": {
    "colab": {
      "provenance": []
    },
    "kernelspec": {
      "name": "python3",
      "display_name": "Python 3"
    },
    "language_info": {
      "name": "python"
    }
  },
  "cells": [
    {
      "cell_type": "markdown",
      "source": [
        "#Mini project 1\n"
      ],
      "metadata": {
        "id": "8gh2XZWdqjki"
      }
    },
    {
      "cell_type": "code",
      "source": [
        "players=int(input(\"number of players: \"))\n",
        "print(f\"there are {players} players playing.\")\n",
        "for i in range(1, players + 1):\n",
        "  turn = i;\n",
        "  print(f\"player number {turn} is playing\")\n",
        "fizz_buzz()\n",
        "\n",
        "def fizz_buzz():\n",
        " n=int(input(\"enter a number: \"))\n",
        " if n%3==0 and n%5== 0:\n",
        "    print(\"fizz buzz\")\n",
        " elif n%3 ==0:\n",
        "    print(\"fizz\")\n",
        " elif n%5 ==0:\n",
        "    print(\"buzz\")\n",
        " else:\n",
        "    if n%3!=0 or n%5!=0:\n",
        "     print (\"you're elminated\")\n",
        "if players:\n",
        " players=players-1\n",
        " print(f\"now {players} are playing\")\n",
        "else:\n",
        " print(f\"There are {players_count} players playing.\")\n",
        "\n",
        "\n",
        "\n",
        "fizz_buzz()"
      ],
      "metadata": {
        "colab": {
          "base_uri": "https://localhost:8080/"
        },
        "id": "EpnIneu1xNov",
        "outputId": "3bf568a7-0c54-42f5-eec7-d63612417301"
      },
      "execution_count": 84,
      "outputs": [
        {
          "output_type": "stream",
          "name": "stdout",
          "text": [
            "number of players: 2\n",
            "there are 2 players playing.\n",
            "player number 1 is playing\n",
            "player number 2 is playing\n",
            "enter a number: 5\n",
            "buzz\n",
            "now 1 are playing\n",
            "enter a number: 15\n",
            "fizz buzz\n"
          ]
        }
      ]
    },
    {
      "cell_type": "markdown",
      "source": [],
      "metadata": {
        "id": "u5wzE7PpD9j0"
      }
    }
  ]
}