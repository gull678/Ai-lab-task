{
  "nbformat": 4,
  "nbformat_minor": 0,
  "metadata": {
    "colab": {
      "provenance": [],
      "gpuType": "T4"
    },
    "kernelspec": {
      "name": "python3",
      "display_name": "Python 3"
    },
    "language_info": {
      "name": "python"
    },
    "accelerator": "GPU"
  },
  "cells": [
    {
      "cell_type": "markdown",
      "source": [
        "#Mini project 1\n"
      ],
      "metadata": {
        "id": "8gh2XZWdqjki"
      }
    },
    {
      "cell_type": "code",
      "source": [
        "players=int(input(\"number of players: \"))\n",
        "print(f\"there are {players} players playing.\")\n",
        "for i in range(1, players + 1):\n",
        "  turn = i;\n",
        "  print(f\"player number {turn} is playing\")\n",
        "fizz_buzz()\n",
        "\n",
        "def fizz_buzz():\n",
        " n=int(input(\"enter a number: \"))\n",
        " if n%3==0 and n%5== 0:\n",
        "    print(\"fizz buzz\")\n",
        " elif n%3 ==0:\n",
        "    print(\"fizz\")\n",
        " elif n%5 ==0:\n",
        "    print(\"buzz\")\n",
        " else:\n",
        "    if n%3!=0 or n%5!=0:\n",
        "     print (\"you're elminated\")\n",
        "if players:\n",
        " players=players-1\n",
        " print(f\"now {players} are playing\")\n",
        "else:\n",
        " print(f\"There are {players_count} players playing.\")\n",
        "\n",
        "\n",
        "\n",
        "fizz_buzz()"
      ],
      "metadata": {
        "colab": {
          "base_uri": "https://localhost:8080/"
        },
        "id": "EpnIneu1xNov",
        "outputId": "3bf568a7-0c54-42f5-eec7-d63612417301"
      },
      "execution_count": null,
      "outputs": [
        {
          "output_type": "stream",
          "name": "stdout",
          "text": [
            "number of players: 2\n",
            "there are 2 players playing.\n",
            "player number 1 is playing\n",
            "player number 2 is playing\n",
            "enter a number: 5\n",
            "buzz\n",
            "now 1 are playing\n",
            "enter a number: 15\n",
            "fizz buzz\n"
          ]
        }
      ]
    },
    {
      "cell_type": "markdown",
      "source": [
        "Mini project 2"
      ],
      "metadata": {
        "id": "uGqLrQxpIuL1"
      }
    },
    {
      "cell_type": "code",
      "source": [
        "movies = [\n",
        "    (\"Eternal Sunshine of the Spotless Mind\", 20000000),\n",
        "    (\"Memento\", 9000000),\n",
        "    (\"Requiem for a Dream\", 4500000),\n",
        "    (\"Pirates of the Caribbean: On Stranger Tides\", 379000000),\n",
        "    (\"Avengers: Age of Ultron\", 365000000),\n",
        "    (\"Avengers: Endgame\", 356000000),\n",
        "    (\"Incredibles 2\", 200000000)\n",
        "]\n",
        "\n",
        "budgets=[budget for _, budget in movies]\n",
        "total_budget=sum(budgets)\n",
        "average_budget=(total_budget/len(budgets))\n",
        "print(f\"average_budget is {average_budget}\")\n",
        "\n",
        "count = 0\n",
        "\n",
        "for name,budgets in movies:\n",
        "  if budgets > average_budget:\n",
        "    movie_budget = budgets - average_budget\n",
        "    count = count + 1\n",
        "    print(f\"\\n {count} Budget for {name} is {movie_budget} greater\")\n",
        "\n",
        "\n",
        "\n",
        "\n",
        "\n"
      ],
      "metadata": {
        "colab": {
          "base_uri": "https://localhost:8080/"
        },
        "id": "PFWPNIFpIT17",
        "outputId": "79aa9969-df48-4216-de26-7024a772d81e"
      },
      "execution_count": 8,
      "outputs": [
        {
          "output_type": "stream",
          "name": "stdout",
          "text": [
            "average_budget is 190500000.0\n",
            "\n",
            " 1 Budget for Pirates of the Caribbean: On Stranger Tides is 188500000.0 greater\n",
            "\n",
            " 2 Budget for Avengers: Age of Ultron is 174500000.0 greater\n",
            "\n",
            " 3 Budget for Avengers: Endgame is 165500000.0 greater\n",
            "\n",
            " 4 Budget for Incredibles 2 is 9500000.0 greater\n"
          ]
        }
      ]
    },
    {
      "cell_type": "markdown",
      "source": [],
      "metadata": {
        "id": "u5wzE7PpD9j0"
      }
    }
  ]
}