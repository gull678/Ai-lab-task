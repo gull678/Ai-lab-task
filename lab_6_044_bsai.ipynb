{
  "nbformat": 4,
  "nbformat_minor": 0,
  "metadata": {
    "colab": {
      "provenance": []
    },
    "kernelspec": {
      "name": "python3",
      "display_name": "Python 3"
    },
    "language_info": {
      "name": "python"
    }
  },
  "cells": [
    {
      "cell_type": "code",
      "execution_count": null,
      "metadata": {
        "id": "rwR4iHoXcxFv"
      },
      "outputs": [],
      "source": [
        "#Task 1\n",
        "def recursion(graph, startnode, visited, level):\n",
        "    print(f\"Level {level}: {startnode}\")\n",
        "    visited[startnode] = True\n",
        "    for neighbor in graph[startnode]:\n",
        "        if not visited[neighbor]:\n",
        "            recursion(graph, neighbor, visited, level + 1)\n",
        "\n",
        "def bfs(graph, startnode):\n",
        "    visited = [False] * len(graph)\n",
        "    recursion(graph, startnode, visited, 0)\n",
        "\n",
        "graph = {\n",
        "    0: [1, 2],\n",
        "    1: [0, 3, 4],\n",
        "    2: [0, 5],\n",
        "    3: [1],\n",
        "    4: [1],\n",
        "    5: [2]\n",
        "}\n",
        "bfs(graph, 0)\n",
        "\n",
        "#Task 2\n",
        "\n",
        "\n",
        "class MyNode:\n",
        "    def __init__(self, value):\n",
        "        self.value = value\n",
        "        self.adj = []\n",
        "\n",
        "def Bfs(start_node):\n",
        "    visited = set()\n",
        "    queue = [start_node]\n",
        "    visited.add(start_node)\n",
        "\n",
        "    while queue:\n",
        "        current_node = queue.pop(0)\n",
        "        print(current_node.value)\n",
        "\n",
        "        for neighbor in current_node.adj:\n",
        "            if neighbor not in visited:\n",
        "                visited.add(neighbor)\n",
        "                queue.append(neighbor)\n",
        "\n",
        "\n",
        "node0 = MyNode(0)\n",
        "node1 = MyNode(1)\n",
        "node2 = MyNode(2)\n",
        "node3 = MyNode(3)\n",
        "node4 = MyNode(4)\n",
        "node5 = MyNode(5)\n",
        "\n",
        "node0.adj = [node1, node2]\n",
        "node1.adj = [node0, node3, node4]\n",
        "node2.adj = [node0, node5]\n",
        "node3.adj = [node1]\n",
        "node4.adj = [node1]\n",
        "node5.adj = [node2]\n",
        "\n",
        "Bfs(node0)\n",
        "\n"
      ]
    }
  ]
}