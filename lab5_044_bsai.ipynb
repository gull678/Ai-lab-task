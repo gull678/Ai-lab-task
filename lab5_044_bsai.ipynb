{
  "nbformat": 4,
  "nbformat_minor": 0,
  "metadata": {
    "colab": {
      "provenance": []
    },
    "kernelspec": {
      "name": "python3",
      "display_name": "Python 3"
    },
    "language_info": {
      "name": "python"
    }
  },
  "cells": [
    {
      "cell_type": "code",
      "execution_count": 1,
      "metadata": {
        "colab": {
          "base_uri": "https://localhost:8080/"
        },
        "id": "KAb7J06Ga9zL",
        "outputId": "acd2037d-ff03-4668-8df3-58dd3c96e425"
      },
      "outputs": [
        {
          "output_type": "stream",
          "name": "stdout",
          "text": [
            "01\n",
            "inorder traversal\n",
            "4 2 5 1 3 \n",
            "postorder traversal\n",
            "4 5 2 3 1 \n",
            "preorder traversal\n",
            "1 2 4 5 3 "
          ]
        }
      ],
      "source": [
        "#Task 1\n",
        "class Node:\n",
        "    def __init__(self,value):\n",
        "        self.value=value\n",
        "        self.neighbor=[]\n",
        "    def add_neighbor(self,neighbor):\n",
        "        self.neighbor.append(neighbor)\n",
        "def dfs_stack(start_node):\n",
        "    visited=set()\n",
        "    stack=[start_node]\n",
        "    while stack:\n",
        "        current=stack.pop()\n",
        "        if current not in visited:\n",
        "            print(current.value)\n",
        "            visited.add(current)\n",
        "            for neighbor in current.neighbor:\n",
        "                if neighbor not in visited:\n",
        "                    stack.append(neighbor)\n",
        "node01=Node('01')\n",
        "node02=Node('02')\n",
        "node03=Node('03')\n",
        "node04=Node('04')\n",
        "\n",
        "node01.add_neighbor(node01)\n",
        "node02.add_neighbor(node02)\n",
        "node03.add_neighbor(node03)\n",
        "node04.add_neighbor(node04)\n",
        "\n",
        "dfs_stack(node01)\n",
        "\n",
        "################################################33\n",
        "#Task 2\n",
        "def inorder(current):\n",
        "    if current is not None:\n",
        "        inorder(current.left)\n",
        "        print(current.value,end=\" \")\n",
        "        inorder(current.right)\n",
        "\n",
        "def postorder(current):\n",
        "    if current is not None:\n",
        "        postorder(current.left)\n",
        "        postorder(current.right)\n",
        "        print(current.value,end=\" \")\n",
        "\n",
        "def preorder(current):\n",
        "    if current is not None:\n",
        "        print(current.value,end=\" \")\n",
        "        preorder(current.left)\n",
        "        preorder(current.right)\n",
        "\n",
        "class treenode:\n",
        "    def __init__(self,value):\n",
        "        self.value=value\n",
        "        self.left=None\n",
        "        self.right=None\n",
        "\n",
        "root=treenode(1)\n",
        "root.left=treenode(2)\n",
        "root.right=treenode(3)\n",
        "root.left.left=treenode(4)\n",
        "root.left.right=treenode(5)\n",
        "\n",
        "print(\"inorder traversal\")\n",
        "inorder(root)\n",
        "print()\n",
        "print(\"postorder traversal\")\n",
        "postorder(root)\n",
        "print()\n",
        "print(\"preorder traversal\")\n",
        "preorder(root)"
      ]
    }
  ]
}